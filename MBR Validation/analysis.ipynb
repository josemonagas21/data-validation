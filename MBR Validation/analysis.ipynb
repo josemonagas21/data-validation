{
 "cells": [
  {
   "cell_type": "code",
   "execution_count": 1,
   "id": "3869d956",
   "metadata": {},
   "outputs": [],
   "source": [
    "import pandas as pd"
   ]
  },
  {
   "cell_type": "code",
   "execution_count": 62,
   "id": "a179047a",
   "metadata": {},
   "outputs": [],
   "source": [
    "agg_data = (\n",
    "    pd.read_csv(\"./data/user-session-pageviews-clicks-month-rollup.csv\", header=1, thousands=',')\n",
    "    .drop(['Unnamed: 5', 'Unnamed: 6'], axis=1)\n",
    ")\n",
    "agg_data.replace(\"    \", \"0\", inplace=True)"
   ]
  },
  {
   "cell_type": "code",
   "execution_count": 63,
   "id": "b4e228c2",
   "metadata": {},
   "outputs": [
    {
     "data": {
      "text/plain": [
       "Month of Year    int64\n",
       "Users            int64\n",
       "Sessions         int64\n",
       "Pageviews        int64\n",
       "Clicks           int64\n",
       "dtype: object"
      ]
     },
     "execution_count": 63,
     "metadata": {},
     "output_type": "execute_result"
    }
   ],
   "source": [
    "agg_data.dtypes"
   ]
  },
  {
   "cell_type": "code",
   "execution_count": 66,
   "id": "4030b620",
   "metadata": {},
   "outputs": [],
   "source": [
    "channel = pd.read_csv(\n",
    "    \"./data/session-channel-data.csv\",\n",
    "    thousands=\",\"\n",
    ").drop(['Unnamed: 6'], axis=1)\n",
    "\n",
    "device = pd.read_csv(\n",
    "    \"./data/device-data.csv\"\n",
    ").drop(['Unnamed: 6'], axis=1)"
   ]
  },
  {
   "cell_type": "code",
   "execution_count": 67,
   "id": "fcf3d81f",
   "metadata": {},
   "outputs": [
    {
     "data": {
      "text/plain": [
       "Session-Channel Level 2    object\n",
       "Month of Year               int64\n",
       "Users                       int64\n",
       "Sessions                    int64\n",
       "Pageviews                   int64\n",
       "Clicks                      int64\n",
       "dtype: object"
      ]
     },
     "execution_count": 67,
     "metadata": {},
     "output_type": "execute_result"
    }
   ],
   "source": [
    "channel.dtypes"
   ]
  },
  {
   "cell_type": "code",
   "execution_count": 74,
   "id": "c3bc39e6",
   "metadata": {},
   "outputs": [],
   "source": [
    "df = agg_data.merge(\n",
    "    channel.groupby(['Month of Year']).sum(), \n",
    "    on=\"Month of Year\",\n",
    "    suffixes=[\"_total\", \"_by_channel\"]  # Adds _total and _by_channel to the column names so we can tell which is which\n",
    ")"
   ]
  },
  {
   "cell_type": "code",
   "execution_count": 79,
   "id": "a6fdd3dc",
   "metadata": {},
   "outputs": [
    {
     "data": {
      "text/plain": [
       "0     0.000000\n",
       "1    -0.037143\n",
       "2    -0.035774\n",
       "3    -0.035242\n",
       "4    -0.010772\n",
       "5     0.001470\n",
       "6    -0.019227\n",
       "7    -0.026971\n",
       "8    -0.028309\n",
       "9    -0.031958\n",
       "10    0.000265\n",
       "11   -0.013461\n",
       "12   -0.028717\n",
       "13   -0.033982\n",
       "14   -0.054545\n",
       "15   -0.016592\n",
       "16   -0.050127\n",
       "17   -0.077017\n",
       "18   -0.095343\n",
       "19   -0.112780\n",
       "20   -0.064534\n",
       "21   -0.050290\n",
       "22   -0.073328\n",
       "23   -0.076711\n",
       "24   -0.081807\n",
       "25   -0.090957\n",
       "26    0.000000\n",
       "27    0.000000\n",
       "28    0.000000\n",
       "29   -0.804450\n",
       "30    0.000000\n",
       "31    0.000000\n",
       "dtype: float64"
      ]
     },
     "execution_count": 79,
     "metadata": {},
     "output_type": "execute_result"
    }
   ],
   "source": [
    "result = 100 * (df.Sessions_total / df.Sessions_by_channel - 1)\n",
    "result "
   ]
  },
  {
   "cell_type": "code",
   "execution_count": null,
   "id": "2f5a4e7f",
   "metadata": {},
   "outputs": [],
   "source": []
  }
 ],
 "metadata": {
  "kernelspec": {
   "display_name": "Python 3 (ipykernel)",
   "language": "python",
   "name": "python3"
  },
  "language_info": {
   "codemirror_mode": {
    "name": "ipython",
    "version": 3
   },
   "file_extension": ".py",
   "mimetype": "text/x-python",
   "name": "python",
   "nbconvert_exporter": "python",
   "pygments_lexer": "ipython3",
   "version": "3.9.7"
  }
 },
 "nbformat": 4,
 "nbformat_minor": 5
}
